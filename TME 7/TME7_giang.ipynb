{
 "cells": [
  {
   "cell_type": "markdown",
   "metadata": {},
   "source": [
    "# TME 7 : Détection d'objets simples (II) :"
   ]
  },
  {
   "cell_type": "markdown",
   "metadata": {},
   "source": [
    "> Consignes: le fichier TME7_Sujet.ipynb est à déposer sur le site Moodle de l'UE https://moodle-sciences.upmc.fr/moodle-2018/course/view.php?id=4650. Si vous êtes en binôme, renommez-le en TME7_nom1_nom2.ipynb.\n",
    "\n",
    "N'oubliez pas de sauvegarder fréquemment votre notebook !! ...\n",
    "\n",
    "Pour chaque questions, écrivez des commentaires brefs et concis lorsque demandé dans les cases **Commentaires**."
   ]
  },
  {
   "cell_type": "code",
   "execution_count": 1,
   "metadata": {},
   "outputs": [],
   "source": [
    "### Chargement des modules et des données utiles.\n",
    "\n",
    "from PIL import Image\n",
    "from pylab import *\n",
    "from scipy.signal import convolve2d\n",
    "from skimage import morphology\n",
    "from time import process_time\n",
    "\n",
    "### charger les images et les convertir en tableaux Numpy\n",
    "rectangle = array(Image.open(\"images/rectangle.png\"))/255\n",
    "\n",
    "carrelage = array(Image.open(\"images/carrelage_wikipedia.jpg\"))/255\n",
    "jussieu = array(Image.open(\"images/Jussieu_wikipedia.jpg\"))/255\n",
    "house = array(Image.open(\"images/house2.jpg\"))/255\n",
    "#rotate = array(Image.open(\"images/rotate.png\"))\n",
    "table = array(Image.open(\"images/table.png\"))/255\n",
    "chaise = array(Image.open(\"images/chaise.png\"))/255\n",
    "\n",
    "### image synthétique pour mise au point\n",
    "def image_contours_ligne_simple():\n",
    "    \"\"\" NoneType -> Array\n",
    "    Construit une image de contours seuillée de taille 500x500 avec une ligne.\n",
    "    \"\"\"\n",
    "    image_contours = zeros((500,500))\n",
    "    for t in range(200):\n",
    "        image_contours[ t + 100, t] = 1\n",
    "    return image_contours\n",
    "\n",
    "### Fonctions d'affichage\n",
    "def affichage_14(affichages,titres=None):\n",
    "    \"\"\" list[Array]*list[str] -> NoneType\n",
    "    Dffectue entre 1 et 4 affichages avec leurs titres, pour des images ou courbes\n",
    "    \n",
    "    Paramètres :\n",
    "      - liste des affichages (entre 1 et 4)\n",
    "      - liste des titres (entre 1 et 4, autant que de affichages), optionnelle    \n",
    "    \"\"\"\n",
    "    \n",
    "    if not type(affichages) == type([]):\n",
    "        affichages = [affichages]\n",
    "        \n",
    "    if titres is None:\n",
    "        titres = ['',]*len(affichages)\n",
    "        \n",
    "    if not type(titres) == type([]):\n",
    "        titres = [titres]\n",
    "    \n",
    "    nb_affichages = len(affichages)\n",
    "    if nb_affichages >4 or nb_affichages < 1 :\n",
    "        raise ValueError('affichage_14 nécéssite 1 à 4 entrées en paramètre')        \n",
    "        \n",
    "    if nb_affichages != len(titres):\n",
    "        raise ValueError('affichage_14 nécéssite autant de titres que d\\'affichages')\n",
    "        \n",
    "    courbes = False\n",
    "    for i in range(0,nb_affichages):\n",
    "        s = subplot(101+10*nb_affichages+i)\n",
    "        s.set_title(titres[i])\n",
    "        if len(affichages[i].shape)==2 and affichages[i].shape[0] > 1 and affichages[i].shape[1] > 1:\n",
    "            # on affiche une image\n",
    "            s.imshow(affichages[i], cmap=\"gray\",interpolation='nearest', aspect='equal')\n",
    "        else :\n",
    "            # il s'agit d'une seule ligne, à afficher comme une courbe\n",
    "            plot(affichages[i])\n",
    "            courbes=True\n",
    "\n",
    "    agrandissement_h = nb_affichages\n",
    "    agrandissement_v = nb_affichages*2 if courbes else nb_affichages\n",
    "    params = gcf()\n",
    "    plSize = params.get_size_inches()\n",
    "    params.set_size_inches( (plSize[0]*agrandissement_v, plSize[1]*agrandissement_h) )\n",
    "    show()\n",
    "\n",
    "\n",
    "def trace_image_et_cercles(image, liste_cercles):\n",
    "    \"\"\"\n",
    "    Array*list[tuple(int,int,int)] -> NoneType\n",
    "    Affichage supperposé d'une image et de cercles.\n",
    "    \"\"\"\n",
    "    fig, ax = subplots()\n",
    "    imshow(image, cmap=cm.gray)\n",
    "    for cercle in liste_cercles:\n",
    "        rayon = cercle[0]\n",
    "        X_c = cercle[2]\n",
    "        Y_c = cercle[1]\n",
    "        circle1 = Circle((X_c, Y_c),rayon,color='r', fill=False)\n",
    "        gcf().gca().add_artist(circle1)\n",
    "        \n",
    "    set_xlim((0, image.shape[1]))\n",
    "    set_ylim((image.shape[0], 0))\n",
    "    set_axis_off()\n",
    "    set_title('Cercles détectés')\n",
    "    show()\n",
    "\n",
    "### Fonctions de chronométrage\n",
    "mytime = 0\n",
    "def tic():\n",
    "    global mytime\n",
    "    mytime = process_time()\n",
    "def tac():\n",
    "    global mytime\n",
    "    print (process_time()-mytime)\n",
    "    mytime = process_time()\n"
   ]
  },
  {
   "cell_type": "markdown",
   "metadata": {},
   "source": [
    "## Exercice 1 — Transformée de Hough: détection de droites"
   ]
  },
  {
   "cell_type": "markdown",
   "metadata": {},
   "source": [
    "### Question 1 : Calcul de l'accumulateur à partir d'une image de contours, version boucle"
   ]
  },
  {
   "cell_type": "markdown",
   "metadata": {
    "scrolled": true
   },
   "source": [
    "On dispose d'une image de contours binarisée. On cherche à calculer la transformée de Hough correspondant.\n",
    "\n",
    "1. Écrire la fonction ```houghl()``` qui renvoie la transformée de Hough pour les droites de l'image de contours binarisée. On utilisera l'algorithme données en TD. \n",
    "\n",
    "La fonction prendra pour arguments:\n",
    "- l'image de contours: adges, \n",
    "- le nombre de pas pour $\\theta$: ``ntheta``,\n",
    "- le nombre de pas pour $\\rho$: ``nrho``,\n",
    "- la tolérance: ``tol`` (qui correspond au test $|x\\cos\\theta+y\\sin\\theta-\\rho|<tol$).\n",
    "\n",
    "**Conseil 1:** remplacer le parcours de l'image par une boucle sur les tableaux d'indices ``X`` et ``Y`` des valeurs non nulles de l'image. On utilisera pour cela la fonction Numpy ```nonzero()``` et la fonction Python ```zip()```. \n",
    "\n",
    "**Conseil 2:** le calcul des cosinus et sinus est coûteux. En remarquant que les 4 boucles imbriquées sont indépendantes les unes des autres et qu'on peut les permuter,  faire en sorte de ne calculer **qu'une seule fois** les valeurs cosinus et sinus pour chaque élément de l'accumulateur de Hough."
   ]
  },
  {
   "cell_type": "code",
   "execution_count": 2,
   "metadata": {},
   "outputs": [],
   "source": [
    "def houghl(I,ntheta,nrho,tol):\n",
    "    \"\"\" Array*int*int*float -> Array[int] \"\"\"\n",
    "    \n",
    "    def appartient_droite(x,y,cos_theta,sin_theta, rho,tol):\n",
    "        \"\"\"float[2]*float*float->boolean\"\"\"\n",
    "        return abs(cos_theta*x+sin_theta*y-rho)<tol\n",
    "\n",
    "    #Accumulateur H\n",
    "    H = np.zeros((ntheta,nrho))\n",
    "    \n",
    "    #Tableaux d'indices X et Y des valeurs non nulles de l'images à l'aide de la fonction nonzero de Numpy\n",
    "    Y,X = np.nonzero(I)\n",
    "    \n",
    "    #Définition de rho max\n",
    "    dimy,dimx = I.shape\n",
    "    rmax=math.sqrt(dimx**2+dimy**2)\n",
    "    \n",
    "    #Liste des valeurs prises par theta et rho avec les nombres de pas ntheta et nrho donnés\n",
    "    tab_theta=np.linspace(-math.pi/2,math.pi,ntheta)\n",
    "    tab_rho=np.linspace(0,rmax,nrho)\n",
    "    \n",
    "    for (y,x) in zip(Y,X):\n",
    "        for i_theta in range(ntheta):\n",
    "            \n",
    "            theta = tab_theta[i_theta]\n",
    "            cos_theta = math.cos(theta)\n",
    "            sin_theta = math.sin(theta)\n",
    "            \n",
    "            for i_rho in range(nrho):\n",
    "                rho = tab_rho[i_rho]\n",
    "                if I[y,x]>tol:\n",
    "                    if appartient_droite(x,y,cos_theta,sin_theta,rho,tol):\n",
    "                        H[i_theta][i_rho]+=1\n",
    "    return H\n"
   ]
  },
  {
   "cell_type": "markdown",
   "metadata": {},
   "source": [
    "2. Tester la fonction ```houghl()``` en l'appliquant à l'image de contours binarisée synthétique très simple générée par la fonction ```image_contours_ligne_simple()```. Afficher l'accumulateur de Hough. Chronométrez également le temps de calcul de la fonction ```hough()```, en prenant des valeurs différentes pour nt et nr. Rappel TD: idéalement nr vaut la longueur d'une diagonale de l'image à traiter et nt pourrait valoir 360 pour avoir une précision de 1 degré, dans un repère polaire. Conseil: essayer d'abord avec des valeurs nettement plus petites, puis augementer les et observer les temps de calcul. Donner un ordre de grandeur de la complexité de cet algorithme."
   ]
  },
  {
   "cell_type": "markdown",
   "metadata": {},
   "source": [
    "### Tests en fonction de ntheta"
   ]
  },
  {
   "cell_type": "markdown",
   "metadata": {},
   "source": [
    "*__Test avec ntheta = 360__*"
   ]
  },
  {
   "cell_type": "code",
   "execution_count": 249,
   "metadata": {},
   "outputs": [
    {
     "data": {
      "text/plain": [
       "<matplotlib.image.AxesImage at 0x7f5b2ded3ac8>"
      ]
     },
     "execution_count": 249,
     "metadata": {},
     "output_type": "execute_result"
    },
    {
     "data": {
      "image/png": "[encoded data removed]",
      "text/plain": [
       "<Figure size 864x432 with 1 Axes>"
      ]
     },
     "metadata": {
      "needs_background": "light"
     },
     "output_type": "display_data"
    }
   ],
   "source": [
    "I = image_contours_ligne_simple()\n",
    "\n",
    "dimy,dimx = I.shape\n",
    "\n",
    "#précisions en degré\n",
    "rho= 1.0\n",
    "theta=1.0\n",
    "\n",
    "#ntheta et nrho en fonction des précisions de rho et ntheta\n",
    "ntheta = int(360.0/theta)\n",
    "#idéalement, nrho vaut la longueur d'une diagonale de l'image\n",
    "nrho = int(math.floor(math.sqrt(dimx**2+dimy**2))/rho)\n",
    "\n",
    "\n",
    "figure(figsize=(12,6))\n",
    "imshow(houghl(I,ntheta,nrho,0.5),cmap=cm.gray)"
   ]
  },
  {
   "cell_type": "markdown",
   "metadata": {},
   "source": [
    "*__Test avec ntheta = 360/10__*"
   ]
  },
  {
   "cell_type": "code",
   "execution_count": 248,
   "metadata": {},
   "outputs": [
    {
     "data": {
      "text/plain": [
       "<matplotlib.image.AxesImage at 0x7f5b2df261d0>"
      ]
     },
     "execution_count": 248,
     "metadata": {},
     "output_type": "execute_result"
    },
    {
     "data": {
      "image/png": "[encoded data removed]",
      "text/plain": [
       "<Figure size 864x432 with 1 Axes>"
      ]
     },
     "metadata": {
      "needs_background": "light"
     },
     "output_type": "display_data"
    }
   ],
   "source": [
    "#précisions en degré\n",
    "rho= 1.0\n",
    "theta=10\n",
    "\n",
    "#ntheta et nrho en fonction des précisions de rho et ntheta\n",
    "ntheta = int(360.0/theta)\n",
    "#idéalement, nrho vaut la longueur d'une diagonale de l'image\n",
    "nrho = int(math.floor(math.sqrt(dimx**2+dimy**2))/rho)\n",
    "\n",
    "\n",
    "figure(figsize=(12,6))\n",
    "imshow(houghl(I,ntheta,nrho,0.5),cmap=cm.gray)"
   ]
  },
  {
   "cell_type": "markdown",
   "metadata": {},
   "source": [
    "*__Test avec ntheta = 360/5__*"
   ]
  },
  {
   "cell_type": "code",
   "execution_count": 242,
   "metadata": {},
   "outputs": [
    {
     "data": {
      "text/plain": [
       "<matplotlib.image.AxesImage at 0x7f5b2ed78630>"
      ]
     },
     "execution_count": 242,
     "metadata": {},
     "output_type": "execute_result"
    },
    {
     "data": {
      "image/png": "[encoded data removed]",
      "text/plain": [
       "<Figure size 864x432 with 1 Axes>"
      ]
     },
     "metadata": {
      "needs_background": "light"
     },
     "output_type": "display_data"
    }
   ],
   "source": [
    "#précisions en degré\n",
    "rho= 1.0\n",
    "theta=5\n",
    "\n",
    "#ntheta et nrho en fonction des précisions de rho et ntheta\n",
    "ntheta = int(360.0/theta)\n",
    "#idéalement, nrho vaut la longueur d'une diagonale de l'image\n",
    "nrho = int(math.floor(math.sqrt(dimx**2+dimy**2))/rho)\n",
    "\n",
    "\n",
    "figure(figsize=(12,6))\n",
    "imshow(houghl(I,ntheta,nrho,0.5),cmap=cm.gray)"
   ]
  },
  {
   "cell_type": "markdown",
   "metadata": {},
   "source": [
    "*__Test avec ntheta = 360/2__*"
   ]
  },
  {
   "cell_type": "code",
   "execution_count": 255,
   "metadata": {},
   "outputs": [
    {
     "data": {
      "text/plain": [
       "<matplotlib.image.AxesImage at 0x7f5b2de93f28>"
      ]
     },
     "execution_count": 255,
     "metadata": {},
     "output_type": "execute_result"
    },
    {
     "data": {
      "image/png": "[encoded data removed]",
      "text/plain": [
       "<Figure size 864x432 with 1 Axes>"
      ]
     },
     "metadata": {
      "needs_background": "light"
     },
     "output_type": "display_data"
    }
   ],
   "source": [
    "#précisions en degré\n",
    "rho= 1.0\n",
    "theta=2\n",
    "\n",
    "#ntheta et nrho en fonction des précisions de rho et ntheta\n",
    "ntheta = int(360.0/theta)\n",
    "#idéalement, nrho vaut la longueur d'une diagonale de l'image\n",
    "nrho = int(math.floor(math.sqrt(dimx**2+dimy**2))/rho)\n",
    "\n",
    "\n",
    "figure(figsize=(12,6))\n",
    "imshow(houghl(I,ntheta,nrho,0.5),cmap=cm.gray)"
   ]
  },
  {
   "cell_type": "markdown",
   "metadata": {},
   "source": [
    "__Test de complexité temporelle en fonction de ntheta:__"
   ]
  },
  {
   "cell_type": "code",
   "execution_count": 50,
   "metadata": {},
   "outputs": [],
   "source": [
    "I=image_contours_ligne_simple()\n",
    "\n",
    "#précisions en degré\n",
    "rho= 1.0\n",
    "\n",
    "#ntheta et nrho en fonction des précisions de rho et ntheta\n",
    "nrho = int(math.floor(math.sqrt(dimx**2+dimy**2))/rho)\n",
    "\n",
    "#Liste des valeurs prises par ntheta\n",
    "tab_ntheta=[int(360.0/theta) for theta in reversed(range(2,22,2))]\n",
    "\n",
    "\n",
    "#Calcul du temps d'exécution\n",
    "\n",
    "temps=[]\n",
    "\n",
    "for ntheta in tab_ntheta:\n",
    "    start=process_time()\n",
    "    houghl(I,ntheta,nrho,0.5)\n",
    "    end=process_time()\n",
    "    temps.append(end-start)"
   ]
  },
  {
   "cell_type": "code",
   "execution_count": 51,
   "metadata": {},
   "outputs": [
    {
     "name": "stdout",
     "output_type": "stream",
     "text": [
      "[30.28125, 37.359375, 38.53125, 45.5625, 54.328125, 66.28125, 77.578125, 115.6875, 169.5, 321.96875]\n"
     ]
    }
   ],
   "source": [
    "print(temps)"
   ]
  },
  {
   "cell_type": "code",
   "execution_count": 143,
   "metadata": {
    "scrolled": true
   },
   "outputs": [
    {
     "data": {
      "image/png": "[encoded data removed]",
      "text/plain": [
       "<Figure size 432x288 with 1 Axes>"
      ]
     },
     "metadata": {
      "needs_background": "light"
     },
     "output_type": "display_data"
    }
   ],
   "source": [
    "\n",
    "plt.plot(temps)\n",
    "plt.title=('Temps d\\'exécution en fonction de ntheta')\n",
    "\n",
    "plt.show()"
   ]
  },
  {
   "cell_type": "markdown",
   "metadata": {},
   "source": [
    "__Commentaire:__\n",
    "\n",
    "L'algorithme `houghl` varie exponentiellement en fonction de `ntheta`."
   ]
  },
  {
   "cell_type": "markdown",
   "metadata": {},
   "source": [
    "### Tests en fonction de nrho"
   ]
  },
  {
   "cell_type": "markdown",
   "metadata": {},
   "source": [
    "`nrho = int(math.floor(math.sqrt(dimx ** 2+dimy ** 2)) = 707`"
   ]
  },
  {
   "cell_type": "markdown",
   "metadata": {},
   "source": [
    "__Test avec nrho = 707__"
   ]
  },
  {
   "cell_type": "code",
   "execution_count": 256,
   "metadata": {},
   "outputs": [
    {
     "data": {
      "text/plain": [
       "<matplotlib.image.AxesImage at 0x7f5b2de543c8>"
      ]
     },
     "execution_count": 256,
     "metadata": {},
     "output_type": "execute_result"
    },
    {
     "data": {
      "image/png": "[encoded data removed]",
      "text/plain": [
       "<Figure size 864x432 with 1 Axes>"
      ]
     },
     "metadata": {
      "needs_background": "light"
     },
     "output_type": "display_data"
    }
   ],
   "source": [
    "#précisions en degré\n",
    "rho= 1.0\n",
    "theta=1.0\n",
    "\n",
    "#ntheta et nrho en fonction des précisions de rho et ntheta\n",
    "ntheta = int(360.0/theta)\n",
    "#idéalement, nrho vaut la longueur d'une diagonale de l'image\n",
    "nrho = int(math.floor(math.sqrt(dimx**2+dimy**2))/rho)\n",
    "\n",
    "\n",
    "figure(figsize=(12,6))\n",
    "imshow(houghl(I,ntheta,nrho,0.5),cmap=cm.gray)"
   ]
  },
  {
   "cell_type": "markdown",
   "metadata": {},
   "source": [
    "__Test avec nrho = 707/10__"
   ]
  },
  {
   "cell_type": "code",
   "execution_count": 257,
   "metadata": {},
   "outputs": [
    {
     "data": {
      "text/plain": [
       "<matplotlib.image.AxesImage at 0x7f5b2de0e780>"
      ]
     },
     "execution_count": 257,
     "metadata": {},
     "output_type": "execute_result"
    },
    {
     "data": {
      "image/png": "[encoded data removed]",
      "text/plain": [
       "<Figure size 864x432 with 1 Axes>"
      ]
     },
     "metadata": {
      "needs_background": "light"
     },
     "output_type": "display_data"
    }
   ],
   "source": [
    "#précisions en degré\n",
    "rho= 10.0\n",
    "theta=1.0\n",
    "\n",
    "#ntheta et nrho en fonction des précisions de rho et ntheta\n",
    "ntheta = int(360.0/theta)\n",
    "#idéalement, nrho vaut la longueur d'une diagonale de l'image\n",
    "nrho = int(math.floor(math.sqrt(dimx**2+dimy**2))/rho)\n",
    "\n",
    "\n",
    "figure(figsize=(12,6))\n",
    "imshow(houghl(I,ntheta,nrho,0.5),cmap=cm.gray)"
   ]
  },
  {
   "cell_type": "markdown",
   "metadata": {},
   "source": [
    "__Test avec nrho = 707/5__"
   ]
  },
  {
   "cell_type": "code",
   "execution_count": 258,
   "metadata": {},
   "outputs": [
    {
     "data": {
      "text/plain": [
       "<matplotlib.image.AxesImage at 0x7f5b2de40da0>"
      ]
     },
     "execution_count": 258,
     "metadata": {},
     "output_type": "execute_result"
    },
    {
     "data": {
      "image/png": "[encoded data removed]",
      "text/plain": [
       "<Figure size 864x432 with 1 Axes>"
      ]
     },
     "metadata": {
      "needs_background": "light"
     },
     "output_type": "display_data"
    }
   ],
   "source": [
    "#précisions en degré\n",
    "rho= 5.0\n",
    "theta=1.0\n",
    "\n",
    "#ntheta et nrho en fonction des précisions de rho et ntheta\n",
    "ntheta = int(360.0/theta)\n",
    "#idéalement, nrho vaut la longueur d'une diagonale de l'image\n",
    "nrho = int(math.floor(math.sqrt(dimx**2+dimy**2))/rho)\n",
    "\n",
    "\n",
    "figure(figsize=(12,6))\n",
    "imshow(houghl(I,ntheta,nrho,0.5),cmap=cm.gray)"
   ]
  },
  {
   "cell_type": "markdown",
   "metadata": {},
   "source": [
    "__Test avec nrho = 707/2__"
   ]
  },
  {
   "cell_type": "code",
   "execution_count": 259,
   "metadata": {},
   "outputs": [
    {
     "data": {
      "text/plain": [
       "<matplotlib.image.AxesImage at 0x7f5b2ddf8898>"
      ]
     },
     "execution_count": 259,
     "metadata": {},
     "output_type": "execute_result"
    },
    {
     "data": {
      "image/png": "[encoded data removed]",
      "text/plain": [
       "<Figure size 864x432 with 1 Axes>"
      ]
     },
     "metadata": {
      "needs_background": "light"
     },
     "output_type": "display_data"
    }
   ],
   "source": [
    "#précisions en degré\n",
    "rho= 2.0\n",
    "theta=1.0\n",
    "\n",
    "#ntheta et nrho en fonction des précisions de rho et ntheta\n",
    "ntheta = int(360.0/theta)\n",
    "#idéalement, nrho vaut la longueur d'une diagonale de l'image\n",
    "nrho = int(math.floor(math.sqrt(dimx**2+dimy**2))/rho)\n",
    "\n",
    "\n",
    "figure(figsize=(12,6))\n",
    "imshow(houghl(I,ntheta,nrho,0.5),cmap=cm.gray)"
   ]
  },
  {
   "cell_type": "markdown",
   "metadata": {},
   "source": [
    "__Test de complexité temporelle en fonction de nrho:__"
   ]
  },
  {
   "cell_type": "code",
   "execution_count": 53,
   "metadata": {},
   "outputs": [],
   "source": [
    "I=image_contours_ligne_simple()\n",
    "\n",
    "#précisions en degré\n",
    "theta= 1.0\n",
    "\n",
    "#ntheta et nrho en fonction des précisions de rho et ntheta\n",
    "ntheta = int(360.0/theta)\n",
    "\n",
    "#Liste des valeurs prises par ntheta\n",
    "tab_nrho=[int(math.floor(math.sqrt(dimx**2+dimy**2))/rho) for rho in reversed(range(2,22,2))]\n",
    "\n",
    "\n",
    "#Calcul du temps d'exécution\n",
    "\n",
    "temps=[]\n",
    "\n",
    "for nrho in tab_nrho:\n",
    "    start=process_time()\n",
    "    houghl(I,ntheta,nrho,0.5)\n",
    "    end=process_time()\n",
    "    temps.append(end-start)"
   ]
  },
  {
   "cell_type": "code",
   "execution_count": 54,
   "metadata": {},
   "outputs": [
    {
     "name": "stdout",
     "output_type": "stream",
     "text": [
      "[31.375, 36.453125, 39.453125, 46.71875, 54.765625, 65.203125, 80.265625, 106.8125, 157.953125, 316.546875]\n"
     ]
    }
   ],
   "source": [
    "print(temps)"
   ]
  },
  {
   "cell_type": "code",
   "execution_count": 55,
   "metadata": {},
   "outputs": [
    {
     "data": {
      "image/png": "[encoded data removed]",
      "text/plain": [
       "<Figure size 432x288 with 1 Axes>"
      ]
     },
     "metadata": {
      "needs_background": "light"
     },
     "output_type": "display_data"
    }
   ],
   "source": [
    "\n",
    "plt.plot(temps)\n",
    "plt.title=('Temps d\\'exécution en fonction de nrho')\n",
    "\n",
    "plt.show()"
   ]
  },
  {
   "cell_type": "markdown",
   "metadata": {},
   "source": [
    "__Commentaire:__\n",
    "\n",
    "L'algorithme `houghl` varie exponentiellement en fonction de `nrho`."
   ]
  },
  {
   "cell_type": "markdown",
   "metadata": {},
   "source": [
    "### Question 2: optimisation de la fonction ``houghl()``\n",
    "\n",
    "Vous avez du constater que le temps de calcul est très long et cela même pour une image très simple. Le temps dépend donc largement des valeurs ```ntheta``` et ```nrho```.\n",
    "Puisque les 4 boucles de l'algorithme (boucles sur indice de ligne, de colonne de l'image de contours à traiter, d'angle et de distance à l'origine) sont indépendantes, on peut imbriquer les parcours sur l'image à l'intérieur du parcours de l'accumulateur de Hough.\n",
    "\n",
    "On pourra alors constater qu'il revient au même de calculer à l'avance les différentes valeurs de $\\rho$ et $\\theta$ et de les placer dans des tableaux. En effet, écrire :\n",
    "````\n",
    "for r in range(nrho):\n",
    "    for t in range(ntheta):\n",
    "       calcul sur t, indépendemment de r\n",
    "       calcul sur r, indépendemment de t\n",
    "````\n",
    "revient à écrire:\n",
    "`````\n",
    "for r in range(nrho):\n",
    "    for t in range(ntheta):\n",
    "        CT[r,t] = f(t)\n",
    "        CR[r,t] = g(r)\n",
    "`````\n",
    "Le calcul des tableaux ``CT`` et ``CR`` peut-être effectué uniquement par appel Numpy **sans utiliser de boucle**: le tableau ``CT`` voit chacune de ses colonnes **identiques** et ``CR`` ses lignes **identiques**. \n",
    "\n",
    "1. En utilisant à bon escient les fonctions ``ones()`` et ```linspace()```, puis facultativement ```meshgrid()```, ou encore plus simplement en gardant les boucles, construire les tableaux ```R```, ```C``` et ```S```. Chaque ligne du tableau ```R``` décrit les mêmes suites de valeurs de $\\rho$. Chaque colonne des tableaux ```C``` et ```S``` décrivent les mêmes suites de valeurs de $\\cos\\theta$ et $\\sin\\theta$. On rappelle que $\\rho$ et $\\theta$ vérifient l'équation $x\\cos\\theta + y\\sin\\theta = \\rho$  pour $x$ et $y$ les coordonnées d'un point de contours dans l'image. Pour la version boucle, quelle est la complexité ? Est-elle acceptable pour un script Python ?"
   ]
  },
  {
   "cell_type": "code",
   "execution_count": 3,
   "metadata": {},
   "outputs": [],
   "source": [
    "############################# INITIALISATION DES PARAMETRES ############################################\n",
    "\n",
    "I=image_contours_ligne_simple()\n",
    "\n",
    "dimy,dimx = I.shape\n",
    "\n",
    "#précisions en degré\n",
    "rho= 1.0\n",
    "theta=1.0\n",
    "\n",
    "#ntheta et nrho en fonction des précisions de rho et ntheta\n",
    "ntheta = int(360.0/theta)\n",
    "#idéalement, nrho vaut la longueur d'une diagonale de l'image\n",
    "nrho = int(math.floor(math.sqrt(dimx**2+dimy**2))/rho)\n",
    "\n",
    "rmax=math.sqrt(dimx**2+dimy**2)\n",
    "\n",
    "\n",
    "########################################## CODE DEMANDE ###########################################################\n",
    "\n",
    "#Construction de R en fonction de nrho et ntheta\n",
    "ligne_rho=np.linspace(0,rmax,nrho)\n",
    "R=np.ones((ntheta,nrho))\n",
    "for ligne in range(len(R)):\n",
    "    R[ligne]=ligne_rho\n",
    "\n",
    "#Construction de ligne_theta la liste des valeurs de theta\n",
    "ligne_theta=np.linspace(-math.pi/2,math.pi,ntheta)\n",
    "\n",
    "#Construction de C et S en fonction de R\n",
    "cos_theta=np.cos(ligne_theta)\n",
    "sin_theta=np.sin(ligne_theta)\n",
    "\n",
    "colonne_C = [[ct] for ct in cos_theta]\n",
    "colonne_S = [[st] for st in sin_theta]\n",
    "\n",
    "C=np.asarray(colonne_C)\n",
    "S=np.asarray(colonne_S)\n",
    "\n",
    "for i in range(nrho-1):\n",
    "    C=np.hstack((C,colonne_C))\n",
    "    S=np.hstack((S,colonne_S))\n"
   ]
  },
  {
   "cell_type": "markdown",
   "metadata": {},
   "source": [
    "2. Soit $(x_1,y_1),..,(x_n,y_n)$ la liste des $n$ points de contours dans l'image de contours binarisée que l'on doit analyser, remarquer alors que $H = \\sum_{i=1}^n |x_i C + y_i S - R| <= tol$. En déduire une version 2 de la fonction ``houghl_opt()``. Comparer le temps d'exécution avec la version précédente. "
   ]
  },
  {
   "cell_type": "code",
   "execution_count": 9,
   "metadata": {},
   "outputs": [],
   "source": [
    "\n",
    "def houghl_opt(I,ntheta,nrho,tol):\n",
    "    \"\"\" Array*int*int*float -> Array[int] \"\"\"\n",
    "    \n",
    "    def appartient_droite(x,y,cos_theta,sin_theta, rho,tol):\n",
    "        \"\"\"float[2]*float*float->boolean\"\"\"\n",
    "        return abs(cos_theta*x+sin_theta*y-rho)<tol\n",
    "\n",
    "    #Accumulateur H\n",
    "    H = np.zeros((ntheta,nrho))\n",
    "    \n",
    "    #Tableaux d'indices X et Y des valeurs non nulles de l'images à l'aide de la fonction nonzero de Numpy\n",
    "    Y,X = np.nonzero(I)\n",
    "    \n",
    "    #Définition de rho max\n",
    "    dimy,dimx = I.shape\n",
    "    rmax=math.sqrt(dimx**2+dimy**2)\n",
    "    \n",
    "    #Liste des valeurs prises par theta et rho avec les nombres de pas ntheta et nrho donnés\n",
    "    ligne_theta=np.linspace(-math.pi/2,math.pi,ntheta)\n",
    "    ligne_rho=np.linspace(0,rmax,nrho)\n",
    "    \n",
    "    #Construction de R\n",
    "    R=np.ones((ntheta,nrho))\n",
    "    for ligne in range(len(R)):\n",
    "        R[ligne]=ligne_rho\n",
    "    \n",
    "    #Construction de S, C\n",
    "    cos_theta=np.cos(ligne_theta)\n",
    "    sin_theta=np.sin(ligne_theta)\n",
    "\n",
    "    #On transforme cos_theta et sin_theta en colonnes\n",
    "    colonne_C = [[ct] for ct in cos_theta]\n",
    "    colonne_S = [[st] for st in sin_theta]\n",
    "\n",
    "    C=np.asarray(colonne_C)\n",
    "    S=np.asarray(colonne_S)\n",
    "    \n",
    "    for i in range(nrho-1):\n",
    "        C=np.hstack((C,colonne_C))\n",
    "        S=np.hstack((S,colonne_S))\n",
    "    \n",
    "    ### BOUCLE PRINCIPALE\n",
    "    for (y,x) in zip(Y,X):\n",
    "        if I[y,x]>tol:\n",
    "            tmp = np.abs(x*C+y*S-R)<tol\n",
    "            H+=tmp.astype(int)\n",
    "    return H\n"
   ]
  },
  {
   "cell_type": "code",
   "execution_count": 10,
   "metadata": {},
   "outputs": [
    {
     "data": {
      "text/plain": [
       "<matplotlib.image.AxesImage at 0x1b2fc700898>"
      ]
     },
     "execution_count": 10,
     "metadata": {},
     "output_type": "execute_result"
    },
    {
     "data": {
      "image/png": "[encoded data removed]",
      "text/plain": [
       "<Figure size 864x432 with 1 Axes>"
      ]
     },
     "metadata": {
      "needs_background": "light"
     },
     "output_type": "display_data"
    }
   ],
   "source": [
    "#précisions en degré\n",
    "rho= 2.0\n",
    "theta=1.0\n",
    "\n",
    "#ntheta et nrho en fonction des précisions de rho et ntheta\n",
    "ntheta = int(360.0/theta)\n",
    "#idéalement, nrho vaut la longueur d'une diagonale de l'image\n",
    "nrho = int(math.floor(math.sqrt(dimx**2+dimy**2))/rho)\n",
    "\n",
    "\n",
    "figure(figsize=(12,6))\n",
    "imshow(houghl_opt(I,ntheta,nrho,0.5),cmap=cm.gray)"
   ]
  },
  {
   "cell_type": "code",
   "execution_count": 11,
   "metadata": {},
   "outputs": [
    {
     "data": {
      "text/plain": [
       "<matplotlib.image.AxesImage at 0x1b2fc765518>"
      ]
     },
     "execution_count": 11,
     "metadata": {},
     "output_type": "execute_result"
    },
    {
     "data": {
      "image/png": "[encoded data removed]",
      "text/plain": [
       "<Figure size 864x432 with 1 Axes>"
      ]
     },
     "metadata": {
      "needs_background": "light"
     },
     "output_type": "display_data"
    }
   ],
   "source": [
    "# pour tester\n",
    "nrho,ntheta = 4,6\n",
    "n,m = 50,50\n",
    "\n",
    "\n",
    "figure(figsize=(12,6))\n",
    "imshow(houghl_opt(I,ntheta,nrho,0.5),cmap=cm.gray)"
   ]
  },
  {
   "cell_type": "markdown",
   "metadata": {},
   "source": [
    "### TEST DE COMPLEXITE TEMPORELLE"
   ]
  },
  {
   "cell_type": "markdown",
   "metadata": {},
   "source": [
    "__Temps d'exécution en fonction de ntheta:__"
   ]
  },
  {
   "cell_type": "code",
   "execution_count": 64,
   "metadata": {},
   "outputs": [],
   "source": [
    "I=image_contours_ligne_simple()\n",
    "\n",
    "#précisions en degré\n",
    "theta= 1.0\n",
    "\n",
    "#ntheta et nrho en fonction des précisions de rho et ntheta\n",
    "ntheta = int(360.0/theta)\n",
    "\n",
    "#Liste des valeurs prises par ntheta\n",
    "tab_nrho=[int(math.floor(math.sqrt(dimx**2+dimy**2))/rho) for rho in reversed(range(2,22,2))]\n",
    "\n",
    "\n",
    "#Calcul du temps d'exécution\n",
    "\n",
    "temps=[]\n",
    "\n",
    "for nrho in tab_nrho:\n",
    "    start=process_time()\n",
    "    houghl_opt(I,ntheta,nrho,0.5)\n",
    "    end=process_time()\n",
    "    temps.append(end-start)"
   ]
  },
  {
   "cell_type": "code",
   "execution_count": 65,
   "metadata": {},
   "outputs": [
    {
     "name": "stdout",
     "output_type": "stream",
     "text": [
      "[2.25, 1.4375, 1.078125, 3.078125, 0.671875, 1.390625, 1.296875, 1.125, 1.703125, 3.078125]\n"
     ]
    }
   ],
   "source": [
    "print(temps)"
   ]
  },
  {
   "cell_type": "code",
   "execution_count": 66,
   "metadata": {},
   "outputs": [
    {
     "data": {
      "image/png": "[encoded data removed]",
      "text/plain": [
       "<Figure size 432x288 with 1 Axes>"
      ]
     },
     "metadata": {
      "needs_background": "light"
     },
     "output_type": "display_data"
    }
   ],
   "source": [
    "\n",
    "plt.plot(temps)\n",
    "plt.title=('Temps d\\'exécution en fonction de ntheta')\n",
    "\n",
    "plt.show()"
   ]
  },
  {
   "cell_type": "markdown",
   "metadata": {},
   "source": [
    "__Temps d'exécution en fonction de nrho:__"
   ]
  },
  {
   "cell_type": "code",
   "execution_count": 70,
   "metadata": {},
   "outputs": [],
   "source": [
    "I=image_contours_ligne_simple()\n",
    "\n",
    "#précisions en degré\n",
    "theta= 1.0\n",
    "\n",
    "#ntheta et nrho en fonction des précisions de rho et ntheta\n",
    "ntheta = int(360.0/theta)\n",
    "\n",
    "#Liste des valeurs prises par ntheta\n",
    "tab_nrho=[int(math.floor(math.sqrt(dimx**2+dimy**2))/rho) for rho in reversed(range(2,22,2))]\n",
    "\n",
    "\n",
    "#Calcul du temps d'exécution\n",
    "\n",
    "temps=[]\n",
    "\n",
    "for nrho in tab_nrho:\n",
    "    start=process_time()\n",
    "    houghl_opt(I,ntheta,nrho,0.5)\n",
    "    end=process_time()\n",
    "    temps.append(end-start)"
   ]
  },
  {
   "cell_type": "code",
   "execution_count": 71,
   "metadata": {},
   "outputs": [
    {
     "name": "stdout",
     "output_type": "stream",
     "text": [
      "[3.09375, 0.859375, 0.421875, 0.59375, 0.546875, 1.4375, 1.234375, 1.375, 3.65625, 5.421875]\n"
     ]
    }
   ],
   "source": [
    "print(temps)"
   ]
  },
  {
   "cell_type": "code",
   "execution_count": 72,
   "metadata": {},
   "outputs": [
    {
     "data": {
      "image/png": "[encoded data removed]",
      "text/plain": [
       "<Figure size 432x288 with 1 Axes>"
      ]
     },
     "metadata": {
      "needs_background": "light"
     },
     "output_type": "display_data"
    }
   ],
   "source": [
    "\n",
    "plt.plot(temps)\n",
    "plt.title=('Temps d\\'exécution en fonction de ntheta')\n",
    "\n",
    "plt.show()"
   ]
  },
  {
   "cell_type": "markdown",
   "metadata": {},
   "source": [
    "### Question 3 : Recherche des $N$ plus grands maxima locaux\n",
    "\n",
    "On cherche ici à rechercher les $N$ plus grands maxima locaux de l'accumulateur de Hough afin de déterminer quelles sont les droites détectées.\n",
    "\n",
    "1. Écrire une fonction ```maxloc_N(H,N)``` qui calcule les ``N`` maxima locaux de l'accumulateur ``H``. La fonction est similaire à celle du TME 6 (```maxloc()```) avec une différence toutefois : elle retourne une liste des coordonnées des ``N`` premiers maxima locaux **trié** par valeurs décroissantes qu'ils prennent dans ```H```. On rappelle que Python possède une fonction ```sorted()``` opérant sur les listes."
   ]
  },
  {
   "cell_type": "code",
   "execution_count": 134,
   "metadata": {},
   "outputs": [],
   "source": [
    "def maxloc_N(H, N): \n",
    "    \"\"\" Array[int]*int -> list[tuple(int,int)] \"\"\"\n",
    "    \n",
    "    dimy,dimx = H.shape\n",
    "    \n",
    "    #Matrice des maxima locaux\n",
    "    max_locaux=np.zeros((dimy,dimx))\n",
    "\n",
    "    #Liste des indices des N plus grands maxima locaux\n",
    "    index_max=[]\n",
    "    \n",
    "    for x in range(1,dimx-1):\n",
    "        for y in range(1,dimy-1):\n",
    "                p = H[y,x]\n",
    "                #Si p est un maximum local\n",
    "                if p==np.max(H[y-1:y+2,x-1:x+2]):\n",
    "                    max_locaux[y,x]=p\n",
    "                    \n",
    "    #Choix des N plus grands maxima locaux\n",
    "    #index_max est trié dans l'ordre décroissant\n",
    "\n",
    "    while len(index_max)<N:\n",
    "        arg = np.argmax(max_locaux)\n",
    "        y=arg//dimx\n",
    "        x=arg%dimx\n",
    "        index_max.append((y,x))\n",
    "        max_locaux[y,x]=0\n",
    "        \n",
    "    return index_max"
   ]
  },
  {
   "cell_type": "markdown",
   "metadata": {},
   "source": [
    "2. Tester cette fonction sur l'accumulateur calculé à la question 1 (ou 2)."
   ]
  },
  {
   "cell_type": "code",
   "execution_count": 154,
   "metadata": {},
   "outputs": [
    {
     "name": "stdout",
     "output_type": "stream",
     "text": [
      "maxloxN(H,10)= [(300, 34), (298, 36), (298, 37), (301, 32), (302, 29), (302, 30), (296, 42), (303, 27), (295, 44), (294, 46), (293, 48), (305, 22), (305, 23), (292, 51), (306, 20), (291, 39), (291, 49), (291, 53), (308, 19), (289, 40), (289, 43), (289, 46), (289, 53), (289, 56), (290, 55), (308, 15), (308, 16), (308, 17), (309, 14), (309, 15), (309, 16), (309, 17), (309, 21), (309, 22), (309, 23), (309, 24), (309, 25), (309, 26), (309, 27), (286, 44), (286, 63), (287, 41), (287, 50), (287, 51), (287, 52), (287, 53), (287, 54), (287, 55), (287, 56), (288, 48), (288, 49), (288, 50), (288, 51), (288, 58), (288, 59), (288, 60), (289, 58), (310, 11), (310, 12), (310, 29), (311, 8), (311, 12), (311, 13), (311, 14), (311, 17), (311, 18), (311, 19), (311, 23), (311, 24), (311, 25), (311, 28), (311, 29), (312, 15), (312, 17), (312, 19), (312, 21), (76, 2), (77, 1), (77, 4), (282, 52), (282, 55), (282, 66), (282, 69), (283, 44), (283, 45), (283, 48), (283, 49), (283, 52), (283, 53), (283, 56), (283, 57), (283, 60), (283, 61), (283, 64), (283, 68), (284, 45), (284, 46), (284, 47), (284, 50), (284, 51)]\n"
     ]
    }
   ],
   "source": [
    "#précisions en degré\n",
    "rho= 2.0\n",
    "theta=1.0\n",
    "\n",
    "#ntheta et nrho en fonction des précisions de rho et ntheta\n",
    "ntheta = int(360.0/theta)\n",
    "#idéalement, nrho vaut la longueur d'une diagonale de l'image\n",
    "nrho = int(math.floor(math.sqrt(dimx**2+dimy**2))/rho)\n",
    "\n",
    "#Accumulateur H\n",
    "H=houghl_opt(I,ntheta,nrho,0.5)\n",
    "\n",
    "#Calcul des maxima locaux\n",
    "N=100\n",
    "print('maxloxN(H,10)=',maxloc_N(H,N))"
   ]
  },
  {
   "cell_type": "code",
   "execution_count": 156,
   "metadata": {},
   "outputs": [
    {
     "data": {
      "text/plain": [
       "<matplotlib.image.AxesImage at 0x1b281dcb2e8>"
      ]
     },
     "execution_count": 156,
     "metadata": {},
     "output_type": "execute_result"
    },
    {
     "data": {
      "image/png": "[encoded data removed]",
      "text/plain": [
       "<Figure size 864x432 with 1 Axes>"
      ]
     },
     "metadata": {
      "needs_background": "light"
     },
     "output_type": "display_data"
    }
   ],
   "source": [
    "#Affichage graphique des N plus grands maxima locaux\n",
    "liste_maxloc=maxloc_N(H,N)\n",
    "\n",
    "maxlocaux_N=np.zeros((dimy,dimx))\n",
    "for pixel in liste_maxloc:\n",
    "    y,x = pixel\n",
    "    maxlocaux_N[y,x]=H[y,x]\n",
    "\n",
    "figure(figsize=(12,6))\n",
    "imshow(maxlocaux_N,cmap=cm.gray)"
   ]
  },
  {
   "cell_type": "markdown",
   "metadata": {},
   "source": [
    "3. Écrire une fonction ``hougl_intersect(l,c,H,I)`` qui calcule l'intersection de la droite de coordonnée ``(l,c)`` dans l'accumulateur ``H`` avec les bords de l'image ``I``. La fonction doit calculer les valeurs $(\\rho,\\theta)$ correspondant à ``(l,c)`` puis calculer une liste de 4 coordonnées qui correspond aux intersections de la droite  $(\\rho,\\theta)$ avec les droites $x=0$, $x=m-1$, $y=0$ et $y=m-1$ dans le plan image. La fonction ne retournera que les intersections qui sont dans le plan de l'image (normalement 2) sous forme de deux listes: la première liste donc les indices de colonne, et la seconde, les indices de ligne."
   ]
  },
  {
   "cell_type": "code",
   "execution_count": 174,
   "metadata": {},
   "outputs": [
    {
     "name": "stdout",
     "output_type": "stream",
     "text": [
      "(298, 36)\n"
     ]
    },
    {
     "data": {
      "text/plain": [
       "([], [])"
      ]
     },
     "execution_count": 174,
     "metadata": {},
     "output_type": "execute_result"
    }
   ],
   "source": [
    "def houghl_intersect(l,c,H,I):\n",
    "    \"\"\" int*int*Array[int]*Array -> tuple[list[int],list[int]] \"\"\"\n",
    "    \n",
    "    dimy,dimx = I.shape\n",
    "    rmax=math.sqrt(dimx**2+dimy**2)\n",
    "    \n",
    "    #l et c sont les coordonnées d'un maximum local trouvé dans la fonction précédente\n",
    "    theta=-math.pi/2+c*((math.pi-(-math.pi/2))/ntheta)\n",
    "    rho=l*rmax/nrho\n",
    "    \n",
    "    \n",
    "    #Listes des indices des points d'intersections qui sont dans le plan de l'image\n",
    "    y_intersection=[]\n",
    "    x_intersection=[]\n",
    "    \n",
    "    #Points d'intersection entre la droite (rho,theta) et...\n",
    "    \n",
    "    #... la droite x=0\n",
    "    x0=0\n",
    "    y0=int(rho/math.sin(theta))\n",
    "    \n",
    "    if y0>=0 and y0<dimy:\n",
    "        print('x0,y0')\n",
    "        y_intersection.append(y0)\n",
    "        x_intersection.append(x0)\n",
    "    \n",
    "    #... la droite x=dimx-1\n",
    "    x1=dimx-1\n",
    "    y1=int((rho-x1*math.cos(theta))/math.sin(theta))\n",
    "    \n",
    "    if y1>=0 and y1<dimy:\n",
    "        print('x1,y1')\n",
    "        y_intersection.append(y1)\n",
    "        x_intersection.append(x1)\n",
    "    \n",
    "    #... la droite y=0\n",
    "    y2=0\n",
    "    x2=int(rho/math.cos(theta))\n",
    "    \n",
    "    if x2>=0 and x2<dimx:\n",
    "        print('x2,y2')\n",
    "        y_intersection.append(y2)\n",
    "        x_intersection.append(x2)\n",
    "        \n",
    "    #la droite y=dimy-1\n",
    "    y3=dimy-1\n",
    "    x3=int((rho-y3*math.sin(theta))/math.cos(theta))\n",
    "    \n",
    "    if x3>=0 and x3<dimx:\n",
    "        print('x3,y3')\n",
    "        y_intersection.append(y3)\n",
    "        x_intersection.append(x3)\n",
    "    \n",
    "    return y_intersection,x_intersection\n",
    "\n",
    "l,c = liste_maxloc[1]\n",
    "print(liste_maxloc[1])\n",
    "houghl_intersect(l,c,H,I)"
   ]
  },
  {
   "cell_type": "code",
   "execution_count": 175,
   "metadata": {},
   "outputs": [
    {
     "data": {
      "text/plain": [
       "<matplotlib.image.AxesImage at 0x1b281973748>"
      ]
     },
     "execution_count": 175,
     "metadata": {},
     "output_type": "execute_result"
    },
    {
     "data": {
      "image/png": "[encoded data removed]",
      "text/plain": [
       "<Figure size 864x432 with 1 Axes>"
      ]
     },
     "metadata": {
      "needs_background": "light"
     },
     "output_type": "display_data"
    }
   ],
   "source": [
    "#Affichage graphique des N plus grands maxima locaux\n",
    "liste_maxloc_rec=maxloc_N(H_rectangle,100)\n",
    "\n",
    "maxlocaux_rectangle=np.zeros((dimy,dimx))\n",
    "for pixel in liste_maxloc_rec:\n",
    "    y,x = pixel\n",
    "    maxlocaux_rectangle[y,x]=H_rectangle[y,x]\n",
    "\n",
    "figure(figsize=(12,6))\n",
    "imshow(maxlocaux_rectangle,cmap=cm.gray)"
   ]
  },
  {
   "cell_type": "markdown",
   "metadata": {},
   "source": [
    "4. Écrire une fonction ``houghl_draw(H,N,I)`` qui affiche l'image ``I`` et les ``N`` segments de droites correspondant aux $N$ premiers maxima locaux de $H$. Testez là sur l'accumulateur précédent. Si le résultat n'est pas très précis, recalculer l'accumulateur de Hough avec plus de précision."
   ]
  },
  {
   "cell_type": "code",
   "execution_count": 176,
   "metadata": {},
   "outputs": [
    {
     "name": "stdout",
     "output_type": "stream",
     "text": [
      "[(299, 71), (300, 68), (300, 69), (298, 73), (298, 74), (298, 75), (301, 64), (297, 77), (297, 78), (297, 79)]\n",
      "x1,y1\n",
      "x2,y2\n",
      "x1,y1\n",
      "x2,y2\n",
      "x1,y1\n",
      "x2,y2\n",
      "x1,y1\n",
      "x2,y2\n",
      "x1,y1\n",
      "x2,y2\n",
      "x1,y1\n",
      "x2,y2\n",
      "x1,y1\n",
      "x2,y2\n",
      "x1,y1\n",
      "x2,y2\n",
      "x1,y1\n",
      "x2,y2\n",
      "x1,y1\n",
      "x2,y2\n"
     ]
    },
    {
     "data": {
      "text/plain": [
       "<matplotlib.image.AxesImage at 0x1b287383320>"
      ]
     },
     "execution_count": 176,
     "metadata": {},
     "output_type": "execute_result"
    },
    {
     "data": {
      "image/png": "[encoded data removed]",
      "text/plain": [
       "<Figure size 432x288 with 1 Axes>"
      ]
     },
     "metadata": {
      "needs_background": "light"
     },
     "output_type": "display_data"
    }
   ],
   "source": [
    "def  houghl_draw(H,N,I):\n",
    "    \"\"\" Array[int]*int*Array -> NoneType\"\"\"\n",
    "    \n",
    "    #Liste des coordonnées des maxima locaux de H triées dans l'ordre décroissant\n",
    "    liste_maxloc=maxloc_N(H,N)\n",
    "    print(liste_maxloc)\n",
    "    \n",
    "    #Points d'intersection entre les droites données par les maxima locaux et le bord de l'image\n",
    "    for maxloc in liste_maxloc:\n",
    "        l,c = maxloc\n",
    "        hough_i=houghl_intersect(l,c,H,I)\n",
    "        plot(hough_i[1],hough_i[0],color='b')\n",
    "    return\n",
    "\n",
    "##################################### TEST ###################################################\n",
    "\n",
    "I=image_contours_ligne_simple()\n",
    "dimy,dimx = I.shape\n",
    "\n",
    "#précisions en degré\n",
    "rho= 1.0\n",
    "theta=1.0\n",
    "\n",
    "#ntheta et nrho en fonction des précisions de rho et ntheta\n",
    "ntheta = int(360.0/theta)\n",
    "nrho = int(math.floor(math.sqrt(dimx**2+dimy**2))/rho)\n",
    "\n",
    "\n",
    "H=houghl_opt(I,ntheta,nrho,0.5)\n",
    "N=10\n",
    "\n",
    "houghl_draw(H,N,I)\n",
    "imshow(I,cmap='gray')"
   ]
  },
  {
   "cell_type": "code",
   "execution_count": null,
   "metadata": {},
   "outputs": [],
   "source": [
    "houghl_int"
   ]
  },
  {
   "cell_type": "code",
   "execution_count": 177,
   "metadata": {},
   "outputs": [
    {
     "ename": "KeyboardInterrupt",
     "evalue": "",
     "output_type": "error",
     "traceback": [
      "\u001b[1;31m---------------------------------------------------------------------------\u001b[0m",
      "\u001b[1;31mKeyboardInterrupt\u001b[0m                         Traceback (most recent call last)",
      "\u001b[1;32m<ipython-input-177-9482cf49ae34>\u001b[0m in \u001b[0;36m<module>\u001b[1;34m\u001b[0m\n\u001b[1;32m----> 1\u001b[1;33m \u001b[0mH_rectangle\u001b[0m\u001b[1;33m=\u001b[0m\u001b[0mhoughl_opt\u001b[0m\u001b[1;33m(\u001b[0m\u001b[0mrectangle\u001b[0m\u001b[1;33m,\u001b[0m\u001b[0mntheta\u001b[0m\u001b[1;33m,\u001b[0m\u001b[0mnrho\u001b[0m\u001b[1;33m,\u001b[0m\u001b[1;36m0.5\u001b[0m\u001b[1;33m)\u001b[0m\u001b[1;33m\u001b[0m\u001b[1;33m\u001b[0m\u001b[0m\n\u001b[0m\u001b[0;32m      2\u001b[0m \u001b[1;33m\u001b[0m\u001b[0m\n",
      "\u001b[1;32m<ipython-input-9-3b0bc6afa333>\u001b[0m in \u001b[0;36mhoughl_opt\u001b[1;34m(I, ntheta, nrho, tol)\u001b[0m\n\u001b[0;32m     44\u001b[0m     \u001b[1;32mfor\u001b[0m \u001b[1;33m(\u001b[0m\u001b[0my\u001b[0m\u001b[1;33m,\u001b[0m\u001b[0mx\u001b[0m\u001b[1;33m)\u001b[0m \u001b[1;32min\u001b[0m \u001b[0mzip\u001b[0m\u001b[1;33m(\u001b[0m\u001b[0mY\u001b[0m\u001b[1;33m,\u001b[0m\u001b[0mX\u001b[0m\u001b[1;33m)\u001b[0m\u001b[1;33m:\u001b[0m\u001b[1;33m\u001b[0m\u001b[1;33m\u001b[0m\u001b[0m\n\u001b[0;32m     45\u001b[0m         \u001b[1;32mif\u001b[0m \u001b[0mI\u001b[0m\u001b[1;33m[\u001b[0m\u001b[0my\u001b[0m\u001b[1;33m,\u001b[0m\u001b[0mx\u001b[0m\u001b[1;33m]\u001b[0m\u001b[1;33m>\u001b[0m\u001b[0mtol\u001b[0m\u001b[1;33m:\u001b[0m\u001b[1;33m\u001b[0m\u001b[1;33m\u001b[0m\u001b[0m\n\u001b[1;32m---> 46\u001b[1;33m             \u001b[0mtmp\u001b[0m \u001b[1;33m=\u001b[0m \u001b[0mnp\u001b[0m\u001b[1;33m.\u001b[0m\u001b[0mabs\u001b[0m\u001b[1;33m(\u001b[0m\u001b[0mx\u001b[0m\u001b[1;33m*\u001b[0m\u001b[0mC\u001b[0m\u001b[1;33m+\u001b[0m\u001b[0my\u001b[0m\u001b[1;33m*\u001b[0m\u001b[0mS\u001b[0m\u001b[1;33m-\u001b[0m\u001b[0mR\u001b[0m\u001b[1;33m)\u001b[0m\u001b[1;33m<\u001b[0m\u001b[0mtol\u001b[0m\u001b[1;33m\u001b[0m\u001b[1;33m\u001b[0m\u001b[0m\n\u001b[0m\u001b[0;32m     47\u001b[0m             \u001b[0mH\u001b[0m\u001b[1;33m+=\u001b[0m\u001b[0mtmp\u001b[0m\u001b[1;33m.\u001b[0m\u001b[0mastype\u001b[0m\u001b[1;33m(\u001b[0m\u001b[0mint\u001b[0m\u001b[1;33m)\u001b[0m\u001b[1;33m\u001b[0m\u001b[1;33m\u001b[0m\u001b[0m\n\u001b[0;32m     48\u001b[0m     \u001b[1;32mreturn\u001b[0m \u001b[0mH\u001b[0m\u001b[1;33m\u001b[0m\u001b[1;33m\u001b[0m\u001b[0m\n",
      "\u001b[1;31mKeyboardInterrupt\u001b[0m: "
     ]
    }
   ],
   "source": [
    "H_rectangle=houghl_opt(rectangle,ntheta,nrho,0.5)\n",
    "\n"
   ]
  },
  {
   "cell_type": "code",
   "execution_count": null,
   "metadata": {},
   "outputs": [],
   "source": [
    "houghl_draw(H_rectangle,N,rectangle)\n",
    "imshow(rectangle,cmap='gray')"
   ]
  },
  {
   "cell_type": "code",
   "execution_count": 173,
   "metadata": {},
   "outputs": [
    {
     "ename": "KeyboardInterrupt",
     "evalue": "",
     "output_type": "error",
     "traceback": [
      "\u001b[1;31m---------------------------------------------------------------------------\u001b[0m",
      "\u001b[1;31mKeyboardInterrupt\u001b[0m                         Traceback (most recent call last)",
      "\u001b[1;32m<ipython-input-173-22fc0512760a>\u001b[0m in \u001b[0;36m<module>\u001b[1;34m\u001b[0m\n\u001b[1;32m----> 1\u001b[1;33m \u001b[0mH_carrelage\u001b[0m\u001b[1;33m=\u001b[0m\u001b[0mhoughl_opt\u001b[0m\u001b[1;33m(\u001b[0m\u001b[0mcarrelage\u001b[0m\u001b[1;33m,\u001b[0m\u001b[0mntheta\u001b[0m\u001b[1;33m,\u001b[0m\u001b[0mnrho\u001b[0m\u001b[1;33m,\u001b[0m\u001b[1;36m0.5\u001b[0m\u001b[1;33m)\u001b[0m\u001b[1;33m\u001b[0m\u001b[1;33m\u001b[0m\u001b[0m\n\u001b[0m\u001b[0;32m      2\u001b[0m \u001b[0mhoughl_draw\u001b[0m\u001b[1;33m(\u001b[0m\u001b[0mH_rectangle\u001b[0m\u001b[1;33m,\u001b[0m\u001b[0mN\u001b[0m\u001b[1;33m,\u001b[0m\u001b[0mcarrelage\u001b[0m\u001b[1;33m)\u001b[0m\u001b[1;33m\u001b[0m\u001b[1;33m\u001b[0m\u001b[0m\n\u001b[0;32m      3\u001b[0m \u001b[0mimshow\u001b[0m\u001b[1;33m(\u001b[0m\u001b[0mcarrelage\u001b[0m\u001b[1;33m,\u001b[0m\u001b[0mcmap\u001b[0m\u001b[1;33m=\u001b[0m\u001b[1;34m'gray'\u001b[0m\u001b[1;33m)\u001b[0m\u001b[1;33m\u001b[0m\u001b[1;33m\u001b[0m\u001b[0m\n",
      "\u001b[1;32m<ipython-input-9-3b0bc6afa333>\u001b[0m in \u001b[0;36mhoughl_opt\u001b[1;34m(I, ntheta, nrho, tol)\u001b[0m\n\u001b[0;32m     44\u001b[0m     \u001b[1;32mfor\u001b[0m \u001b[1;33m(\u001b[0m\u001b[0my\u001b[0m\u001b[1;33m,\u001b[0m\u001b[0mx\u001b[0m\u001b[1;33m)\u001b[0m \u001b[1;32min\u001b[0m \u001b[0mzip\u001b[0m\u001b[1;33m(\u001b[0m\u001b[0mY\u001b[0m\u001b[1;33m,\u001b[0m\u001b[0mX\u001b[0m\u001b[1;33m)\u001b[0m\u001b[1;33m:\u001b[0m\u001b[1;33m\u001b[0m\u001b[1;33m\u001b[0m\u001b[0m\n\u001b[0;32m     45\u001b[0m         \u001b[1;32mif\u001b[0m \u001b[0mI\u001b[0m\u001b[1;33m[\u001b[0m\u001b[0my\u001b[0m\u001b[1;33m,\u001b[0m\u001b[0mx\u001b[0m\u001b[1;33m]\u001b[0m\u001b[1;33m>\u001b[0m\u001b[0mtol\u001b[0m\u001b[1;33m:\u001b[0m\u001b[1;33m\u001b[0m\u001b[1;33m\u001b[0m\u001b[0m\n\u001b[1;32m---> 46\u001b[1;33m             \u001b[0mtmp\u001b[0m \u001b[1;33m=\u001b[0m \u001b[0mnp\u001b[0m\u001b[1;33m.\u001b[0m\u001b[0mabs\u001b[0m\u001b[1;33m(\u001b[0m\u001b[0mx\u001b[0m\u001b[1;33m*\u001b[0m\u001b[0mC\u001b[0m\u001b[1;33m+\u001b[0m\u001b[0my\u001b[0m\u001b[1;33m*\u001b[0m\u001b[0mS\u001b[0m\u001b[1;33m-\u001b[0m\u001b[0mR\u001b[0m\u001b[1;33m)\u001b[0m\u001b[1;33m<\u001b[0m\u001b[0mtol\u001b[0m\u001b[1;33m\u001b[0m\u001b[1;33m\u001b[0m\u001b[0m\n\u001b[0m\u001b[0;32m     47\u001b[0m             \u001b[0mH\u001b[0m\u001b[1;33m+=\u001b[0m\u001b[0mtmp\u001b[0m\u001b[1;33m.\u001b[0m\u001b[0mastype\u001b[0m\u001b[1;33m(\u001b[0m\u001b[0mint\u001b[0m\u001b[1;33m)\u001b[0m\u001b[1;33m\u001b[0m\u001b[1;33m\u001b[0m\u001b[0m\n\u001b[0;32m     48\u001b[0m     \u001b[1;32mreturn\u001b[0m \u001b[0mH\u001b[0m\u001b[1;33m\u001b[0m\u001b[1;33m\u001b[0m\u001b[0m\n",
      "\u001b[1;31mKeyboardInterrupt\u001b[0m: "
     ]
    }
   ],
   "source": [
    "H_carrelage=houghl_opt(carrelage,ntheta,nrho,0.5)\n",
    "houghl_draw(H_rectangle,N,carrelage)\n",
    "imshow(carrelage,cmap='gray')"
   ]
  },
  {
   "cell_type": "markdown",
   "metadata": {},
   "source": [
    "### Question 4 : Détection de lignes sur une image.\n",
    "\n",
    "On cherche maintenant à détecter les lignes dans une image quelconque à l'aide de la méthode de Hough.\n",
    "\n",
    "1. Écrire une fonction ``edges(I,s)`` qui réalise une détection de contours sur l'image ``I`` à l'aide des opérateurs de Sobel et de la fonction ``convolve2d()``. On effectuera un seuillage binaire sur la norme du gradient, le seuil sera donné par ``s``. Enfin, on utilisera la fonction ```morphology.thin()``` du module ``skimage`` qui permet de réalisé un affinage des contours. La fonction retournera la carte des contours affinés.\n",
    "\n"
   ]
  },
  {
   "cell_type": "code",
   "execution_count": 188,
   "metadata": {},
   "outputs": [],
   "source": [
    "def edges(I,s):\n",
    "    \"\"\" Array*float -> Array[bool] \"\"\"\n",
    "    Sobel_x=np.array([[-1,0,1],[-2,0,2],[-1,0,1]])\n",
    "    Sobel_y=np.array([[-1,2,-1],[0,0,0],[1,2,1]])\n",
    "    \n",
    "    Ix=convolve2d(I,Sobel_x)\n",
    "    Iy=convolve2d(I,Sobel_y)\n",
    "    I2=np.zeros_like(I)\n",
    "    \n",
    "    n,m=I.shape\n",
    "    \n",
    "    for i in range(n):\n",
    "        for j in range(m):\n",
    "            norm=np.linalg.norm([Ix[i,j],Iy[i,j]])\n",
    "            if norm>s:\n",
    "                I2[i,j]=1\n",
    "    return morphology.thin(I2)\n"
   ]
  },
  {
   "cell_type": "markdown",
   "metadata": {},
   "source": [
    "2. Tester la fonction ``edges()`` sur l'image ``rectangle.png``. Afficher l'image des contours binarisée."
   ]
  },
  {
   "cell_type": "code",
   "execution_count": 189,
   "metadata": {},
   "outputs": [
    {
     "data": {
      "image/png": "[encoded data removed]",
      "text/plain": [
       "<Figure size 864x576 with 2 Axes>"
      ]
     },
     "metadata": {
      "needs_background": "light"
     },
     "output_type": "display_data"
    }
   ],
   "source": [
    "contours_rectangle=edges(rectangle,0)\n",
    "affichage_14([rectangle,contours_rectangle],['rectangle','contours rectangle'])"
   ]
  },
  {
   "cell_type": "markdown",
   "metadata": {},
   "source": [
    "3. Calculer et afficher l''accumulateur de Hough pour cette image. On utilisera la version optimisée du détecteur de Hough ainsi que les valeurs ntheta=360 et nrho = longueur diagonale de l'image. Commenter l'aspect de l'accumulateur."
   ]
  },
  {
   "cell_type": "code",
   "execution_count": 187,
   "metadata": {},
   "outputs": [
    {
     "name": "stdout",
     "output_type": "stream",
     "text": [
      "[(60, 6), (299, 6), (60, 12), (299, 12), (60, 19), (299, 19), (60, 26), (299, 26), (179, 353), (180, 353)]\n",
      "x1,y1\n",
      "x2,y2\n",
      "x1,y1\n",
      "x2,y2\n",
      "x1,y1\n",
      "x2,y2\n"
     ]
    },
    {
     "data": {
      "image/png": "[encoded data removed]",
      "text/plain": [
       "<Figure size 432x288 with 1 Axes>"
      ]
     },
     "metadata": {
      "needs_background": "light"
     },
     "output_type": "display_data"
    }
   ],
   "source": [
    "H_rectangle=houghl_opt(rectangle,ntheta,nrho,0.5)\n",
    "houghl_draw(H_rectangle,N,contours_rectangle)\n",
    "#imshow(rectangle,cmap='gray')"
   ]
  },
  {
   "cell_type": "markdown",
   "metadata": {},
   "source": [
    "4. Afficher les coordonnées et valeurs des premiers maxima locaux. Pour obtenir un bon résultat, il faut probablement avoir une bonne précision sur les valeurs de $\\theta$ pour une tolérance faible (<1), une tolérance trop peu faible implique des détections multiples pour le même segment de droite dans l'image. Reconstruire et afficher les 4 droites détectées dans l'accumulateur."
   ]
  },
  {
   "cell_type": "code",
   "execution_count": null,
   "metadata": {},
   "outputs": [],
   "source": []
  },
  {
   "cell_type": "markdown",
   "metadata": {},
   "source": [
    "### Question 5: expérimentation\n",
    "Tester vos codes sur les images ``carrelage.png``, ``jussieu.png``, ``chaise.png``, ``table.png`` et ``house2.png``."
   ]
  },
  {
   "cell_type": "code",
   "execution_count": null,
   "metadata": {},
   "outputs": [],
   "source": [
    "images = [carrelage,jussieu,chaise,table,house]\n",
    "titres = [\"carrelage\",\"jussieu\",\"chaise\",\"table\",\"house\"]\n",
    "\n",
    "for img,titre in zip(images,titres):\n",
    "    tic()\n",
    "    print(\"Image\",titre,\"taille\",img.shape)\n",
    "    ...\n",
    "    \n",
    "    tac()\n"
   ]
  },
  {
   "cell_type": "markdown",
   "metadata": {},
   "source": [
    "## Exercice  2 : Détection de cercles (bonus)\n",
    "\n",
    "Implémentez une détection de cercles par la méthode de Hough en adaptant ce qui a été fait dans l'exercice précédent.\n",
    "\n",
    "- Vous pourrez restreindre la détection aux cercles de rayon inférieur à rayon_max et supérieur à rayon_min.\n",
    "- On limitera la détection aux cercles dont le centre est dans l'image.\n",
    "- Il est nécessaire de normaliser l'accumulateur par le périmètre du cercle pour ne pas favoriser la détection de grands cercles.\n",
    "\n",
    "\n"
   ]
  },
  {
   "cell_type": "code",
   "execution_count": null,
   "metadata": {},
   "outputs": [],
   "source": [
    "# Données\n",
    "lune = array(Image.open(\"images/Lune.png\"))\n",
    "cible = array(Image.open(\"images/cible.png\"))\n",
    "pieces = array(Image.open(\"images/pieces.png\"))\n",
    "table = array(Image.open(\"images/table.png\"))\n",
    "chaise = array(Image.open(\"images/chaise.png\"))\n",
    "velo = array(Image.open(\"images/Bicyclette_de_Lawson.png\").convert('L'))\n",
    "\n",
    "# image synthétique \n",
    "def cercle_simple():\n",
    "    \"\"\" NoneType -> Array\n",
    "    Construit l'image 200x200 d'un disque de rayon 20 centré. \n",
    "    \"\"\"\n",
    "    image_contours = zeros((200,200))\n",
    "    r = 20\n",
    "    for angle in arange(0,360)*pi/180:\n",
    "        x = int(round(r*cos(angle))) + 100\n",
    "        y = int(round(r*sin(angle))) + 100\n",
    "        image_contours[x,y] = 1\n",
    "    return image_contours\n",
    "\n",
    "\n",
    "def trace_image_et_cercles(image, liste_cercles):\n",
    "    \"\"\"\n",
    "    Array*list[tuple(int,int,int)] -> NoneType\n",
    "    Affichage supperposé d'une image et de cercles.\n",
    "    \"\"\"\n",
    "    fig, ax = subplots()\n",
    "    imshow(image, cmap=cm.gray)\n",
    "    for cercle in liste_cercles:\n",
    "        rayon = cercle[0]\n",
    "        X_c = cercle[2]\n",
    "        Y_c = cercle[1]\n",
    "        circle1 = Circle((X_c, Y_c),rayon,color='r', fill=False)\n",
    "        gcf().gca().add_artist(circle1)\n",
    "        \n",
    "#    set_xlim((0, image.shape[1]))\n",
    "#    set_ylim((image.shape[0], 0))\n",
    "    set_axis_off()\n",
    "    set_title('Cercles détectés')\n",
    "    show()\n"
   ]
  },
  {
   "cell_type": "code",
   "execution_count": null,
   "metadata": {},
   "outputs": [],
   "source": [
    "# mise au point sur cette image\n",
    "cercle = cercle_simple()\n",
    "\n",
    "def houghc(img, r_min, r_max,tol):\n",
    "    \"\"\" Array[bool]*int*int*float -> Array \"\"\"\n",
    "                \n",
    "\n",
    "def maxloc_houghc(H,N):\n",
    "    \"\"\" Array*int -> list[tuple(int,int,int)]\"\"\"\n"
   ]
  }
 ],
 "metadata": {
  "anaconda-cloud": {},
  "kernelspec": {
   "display_name": "Python 3",
   "language": "python",
   "name": "python3"
  },
  "language_info": {
   "codemirror_mode": {
    "name": "ipython",
    "version": 3
   },
   "file_extension": ".py",
   "mimetype": "text/x-python",
   "name": "python",
   "nbconvert_exporter": "python",
   "pygments_lexer": "ipython3",
   "version": "3.7.1"
  }
 },
 "nbformat": 4,
 "nbformat_minor": 1
}
